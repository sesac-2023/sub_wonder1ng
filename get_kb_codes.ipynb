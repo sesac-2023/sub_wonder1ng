{
 "cells": [
  {
   "cell_type": "code",
   "execution_count": 1,
   "metadata": {},
   "outputs": [],
   "source": [
    "from bs4 import BeautifulSoup\n",
    "from urllib.request import Request, urlopen\n",
    "import pandas as pd\n",
    "\n",
    "url = 'https://www.kbchachacha.com/public/search/carMaker.json?page=1&sort=-orderDate'\n",
    "\n",
    "req = Request(url, headers = {'User-Agent': 'Chrome'})\n",
    "html = urlopen(req).read()\n",
    "soup = BeautifulSoup(html, 'html.parser')"
   ]
  },
  {
   "cell_type": "code",
   "execution_count": 2,
   "metadata": {},
   "outputs": [
    {
     "data": {
      "text/plain": [
       "80"
      ]
     },
     "execution_count": 2,
     "metadata": {},
     "output_type": "execute_result"
    }
   ],
   "source": [
    "brand_code_list = []\n",
    "brand_code_list.extend([[brand_code['makerCode'], brand_code['makerName']] for brand_code in pd.read_json(soup.text)['result']['국산']])\n",
    "brand_code_list.extend([[brand_code['makerCode'], brand_code['makerName']] for brand_code in pd.read_json(soup.text)['result']['수입']])\n",
    "len(brand_code_list)"
   ]
  },
  {
   "cell_type": "code",
   "execution_count": 3,
   "metadata": {},
   "outputs": [
    {
     "data": {
      "text/plain": [
       "606"
      ]
     },
     "execution_count": 3,
     "metadata": {},
     "output_type": "execute_result"
    }
   ],
   "source": [
    "url = 'https://www.kbchachacha.com/public/search/carClass.json?page=1&sort=-orderDate&makerCode={brand_code}'\n",
    "class_code_list = []\n",
    "\n",
    "for brand_code, brand_name in brand_code_list:\n",
    "    req = Request(url.format(brand_code=brand_code), headers = {'User-Agent': 'Chrome'})\n",
    "    html = urlopen(req).read()\n",
    "    soup = BeautifulSoup(html, 'html.parser')\n",
    "    pd.read_json(soup.text)['result']['code']\n",
    "    class_code_list.extend([[brand_code, class_data['className'], class_data['classCode']] for class_data in pd.read_json(soup.text)['result']['code']])\n",
    "len(class_code_list)"
   ]
  }
 ],
 "metadata": {
  "kernelspec": {
   "display_name": "study",
   "language": "python",
   "name": "python3"
  },
  "language_info": {
   "codemirror_mode": {
    "name": "ipython",
    "version": 3
   },
   "file_extension": ".py",
   "mimetype": "text/x-python",
   "name": "python",
   "nbconvert_exporter": "python",
   "pygments_lexer": "ipython3",
   "version": "3.10.11"
  },
  "orig_nbformat": 4
 },
 "nbformat": 4,
 "nbformat_minor": 2
}
